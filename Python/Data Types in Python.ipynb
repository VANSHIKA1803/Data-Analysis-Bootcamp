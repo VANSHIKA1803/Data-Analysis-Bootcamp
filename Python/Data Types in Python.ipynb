{
 "cells": [
  {
   "cell_type": "markdown",
   "id": "da4703f7",
   "metadata": {},
   "source": [
    "# Data Types "
   ]
  },
  {
   "cell_type": "code",
   "execution_count": 1,
   "id": "34910600",
   "metadata": {},
   "outputs": [
    {
     "data": {
      "text/plain": [
       "int"
      ]
     },
     "execution_count": 1,
     "metadata": {},
     "output_type": "execute_result"
    }
   ],
   "source": [
    "type(12)"
   ]
  },
  {
   "cell_type": "code",
   "execution_count": 2,
   "id": "1a07f0f0",
   "metadata": {},
   "outputs": [
    {
     "data": {
      "text/plain": [
       "int"
      ]
     },
     "execution_count": 2,
     "metadata": {},
     "output_type": "execute_result"
    }
   ],
   "source": [
    "type(-12)"
   ]
  },
  {
   "cell_type": "code",
   "execution_count": 3,
   "id": "b0cf222e",
   "metadata": {},
   "outputs": [
    {
     "data": {
      "text/plain": [
       "float"
      ]
     },
     "execution_count": 3,
     "metadata": {},
     "output_type": "execute_result"
    }
   ],
   "source": [
    "type(10 + 11.5)"
   ]
  },
  {
   "cell_type": "code",
   "execution_count": 4,
   "id": "bb2732e8",
   "metadata": {},
   "outputs": [
    {
     "data": {
      "text/plain": [
       "complex"
      ]
     },
     "execution_count": 4,
     "metadata": {},
     "output_type": "execute_result"
    }
   ],
   "source": [
    "type(3 + 12j)"
   ]
  },
  {
   "cell_type": "code",
   "execution_count": 9,
   "id": "8071854e",
   "metadata": {},
   "outputs": [
    {
     "data": {
      "text/plain": [
       "bool"
      ]
     },
     "execution_count": 9,
     "metadata": {},
     "output_type": "execute_result"
    }
   ],
   "source": [
    "#Boolean\n",
    "\n",
    "type(True)\n",
    "type(False)"
   ]
  },
  {
   "cell_type": "markdown",
   "id": "bdad50d4",
   "metadata": {},
   "source": [
    "# STRINGS"
   ]
  },
  {
   "cell_type": "code",
   "execution_count": null,
   "id": "7ea4f130",
   "metadata": {},
   "outputs": [],
   "source": [
    "# stores one value with multiple characters"
   ]
  },
  {
   "cell_type": "code",
   "execution_count": 10,
   "id": "27efabdd",
   "metadata": {},
   "outputs": [
    {
     "data": {
      "text/plain": [
       "'Single Quotes'"
      ]
     },
     "execution_count": 10,
     "metadata": {},
     "output_type": "execute_result"
    }
   ],
   "source": [
    "#Strings - representing UICODE characters, '',\"\", \"\"\"\n",
    "\n",
    "'Single Quotes'"
   ]
  },
  {
   "cell_type": "code",
   "execution_count": 11,
   "id": "43d12c60",
   "metadata": {},
   "outputs": [
    {
     "data": {
      "text/plain": [
       "'Double Quotes'"
      ]
     },
     "execution_count": 11,
     "metadata": {},
     "output_type": "execute_result"
    }
   ],
   "source": [
    "'Double Quotes'"
   ]
  },
  {
   "cell_type": "code",
   "execution_count": 14,
   "id": "fa4a16b3",
   "metadata": {},
   "outputs": [
    {
     "name": "stdout",
     "output_type": "stream",
     "text": [
      "\n",
      "hey! its me\n",
      "remember , vanshika\n",
      "your friend.\n",
      "\n",
      "\n"
     ]
    }
   ],
   "source": [
    "multi_line = \"\"\"\n",
    "hey! its me\n",
    "remember , vanshika\n",
    "your friend.\n",
    "\n",
    "\"\"\"\n",
    "\n",
    "print(multi_line)"
   ]
  },
  {
   "cell_type": "code",
   "execution_count": 26,
   "id": "91820623",
   "metadata": {},
   "outputs": [
    {
     "name": "stdout",
     "output_type": "stream",
     "text": [
      "I've to go to meet \n",
      "\"Miss. VANSHIKA TANWAR\". \n"
     ]
    }
   ],
   "source": [
    "#'I've to go.'\n",
    "\"I've to go.\"\n",
    "\"I've to go to meet 'Miss. VANSHIKA TANWAR' \"\n",
    "#\"I've to go to meet \"Miss. VANSHIKA TANWAR\" \"\n",
    "\n",
    "example = \"\"\"I've to go to meet \n",
    "\"Miss. VANSHIKA TANWAR\". \"\"\"\n",
    "\n",
    "print(example)"
   ]
  },
  {
   "cell_type": "code",
   "execution_count": 35,
   "id": "04eecd89",
   "metadata": {},
   "outputs": [],
   "source": [
    "#indexing\n",
    "\n",
    "x = \"Hello World!\""
   ]
  },
  {
   "cell_type": "code",
   "execution_count": 36,
   "id": "b16c778f",
   "metadata": {},
   "outputs": [
    {
     "name": "stdout",
     "output_type": "stream",
     "text": [
      "llo\n"
     ]
    }
   ],
   "source": [
    "print(x[2:5])"
   ]
  },
  {
   "cell_type": "code",
   "execution_count": 37,
   "id": "416d0ed9",
   "metadata": {},
   "outputs": [
    {
     "data": {
      "text/plain": [
       "'Hello World!Hello World!Hello World!'"
      ]
     },
     "execution_count": 37,
     "metadata": {},
     "output_type": "execute_result"
    }
   ],
   "source": [
    "x*3 #REPLICATION IN STRING"
   ]
  },
  {
   "cell_type": "code",
   "execution_count": 41,
   "id": "d88621f6",
   "metadata": {},
   "outputs": [
    {
     "data": {
      "text/plain": [
       "'Hello World! Hello World!'"
      ]
     },
     "execution_count": 41,
     "metadata": {},
     "output_type": "execute_result"
    }
   ],
   "source": [
    "x + \" \" + x  #CONCATENATION"
   ]
  },
  {
   "cell_type": "code",
   "execution_count": null,
   "id": "69e30ae8",
   "metadata": {},
   "outputs": [],
   "source": []
  },
  {
   "cell_type": "markdown",
   "id": "d98f0e81",
   "metadata": {},
   "source": [
    "# LISTS"
   ]
  },
  {
   "cell_type": "code",
   "execution_count": null,
   "id": "97f97fce",
   "metadata": {},
   "outputs": [],
   "source": [
    "# They store multiple separate values.\n",
    "# uses '[]' brackets.\n",
    "# can stores different datatypes in list or nested lists"
   ]
  },
  {
   "cell_type": "code",
   "execution_count": 42,
   "id": "3cb8aeec",
   "metadata": {},
   "outputs": [
    {
     "data": {
      "text/plain": [
       "[1, 2, 3]"
      ]
     },
     "execution_count": 42,
     "metadata": {},
     "output_type": "execute_result"
    }
   ],
   "source": [
    "[1,2,3]"
   ]
  },
  {
   "cell_type": "code",
   "execution_count": 43,
   "id": "fb306496",
   "metadata": {},
   "outputs": [
    {
     "data": {
      "text/plain": [
       "['Vansh', 'khana', 'deep']"
      ]
     },
     "execution_count": 43,
     "metadata": {},
     "output_type": "execute_result"
    }
   ],
   "source": [
    "[\"Vansh\" , 'khana' , 'deep']"
   ]
  },
  {
   "cell_type": "code",
   "execution_count": 44,
   "id": "8ecfa3e4",
   "metadata": {},
   "outputs": [
    {
     "data": {
      "text/plain": [
       "[1, 'hey', 'vanshika', [2, 'there', 'pretty'], True]"
      ]
     },
     "execution_count": 44,
     "metadata": {},
     "output_type": "execute_result"
    }
   ],
   "source": [
    "[1 , 'hey' , \"vanshika\" , [2 , 'there' , \"pretty\"] , True]"
   ]
  },
  {
   "cell_type": "code",
   "execution_count": 46,
   "id": "892141f9",
   "metadata": {},
   "outputs": [
    {
     "name": "stdout",
     "output_type": "stream",
     "text": [
      "['Vanshika', 'Vedant', 'Mansi']\n",
      "['Vanshika', 'Vedant', 'Mansi', 'Deep']\n"
     ]
    }
   ],
   "source": [
    "\n",
    "#lists are changeable i.e. MUTABLE once created can be modified , updated and deleted\n",
    "names = [\"Vanshika\", \"Vedant\" , \"Mansi\"]\n",
    "print(names)\n",
    "names.append(\"Deep\")\n",
    "print(names)"
   ]
  },
  {
   "cell_type": "code",
   "execution_count": 47,
   "id": "1513fb92",
   "metadata": {},
   "outputs": [
    {
     "name": "stdout",
     "output_type": "stream",
     "text": [
      "['Vanu', 'Vedant', 'Mansi', 'Deep']\n"
     ]
    }
   ],
   "source": [
    "names[0] = \"Vanu\"\n",
    "print(names)"
   ]
  },
  {
   "cell_type": "code",
   "execution_count": 51,
   "id": "5a80f48f",
   "metadata": {},
   "outputs": [
    {
     "name": "stdout",
     "output_type": "stream",
     "text": [
      "vanshika\n",
      "[2, 'there', 'pretty']\n",
      "pretty\n"
     ]
    }
   ],
   "source": [
    "lists = [1 , 'hey' , \"vanshika\" , [2 , 'there' , \"pretty\"] , True]\n",
    "print(lists[2])\n",
    "print(lists[3])\n",
    "print(lists[3][2])"
   ]
  },
  {
   "cell_type": "code",
   "execution_count": null,
   "id": "ade5411a",
   "metadata": {},
   "outputs": [],
   "source": []
  },
  {
   "cell_type": "markdown",
   "id": "873dc93a",
   "metadata": {},
   "source": [
    "# TUPLE"
   ]
  },
  {
   "cell_type": "code",
   "execution_count": null,
   "id": "44b7cfda",
   "metadata": {},
   "outputs": [],
   "source": [
    "# They are IMMUTABLE in nature i.e can not be changed  after its created.\n",
    "# uses '()' brackets."
   ]
  },
  {
   "cell_type": "code",
   "execution_count": 52,
   "id": "234abb9a",
   "metadata": {},
   "outputs": [
    {
     "name": "stdout",
     "output_type": "stream",
     "text": [
      "(1, 2, 3, 4, 1, 2)\n"
     ]
    }
   ],
   "source": [
    "tuple_name = (1,2,3,4,1,2)\n",
    "print(tuple_name)"
   ]
  },
  {
   "cell_type": "code",
   "execution_count": 53,
   "id": "c5714579",
   "metadata": {},
   "outputs": [
    {
     "data": {
      "text/plain": [
       "tuple"
      ]
     },
     "execution_count": 53,
     "metadata": {},
     "output_type": "execute_result"
    }
   ],
   "source": [
    "type(tuple_name)"
   ]
  },
  {
   "cell_type": "code",
   "execution_count": 54,
   "id": "167edc65",
   "metadata": {},
   "outputs": [
    {
     "ename": "AttributeError",
     "evalue": "'tuple' object has no attribute 'append'",
     "output_type": "error",
     "traceback": [
      "\u001b[1;31m---------------------------------------------------------------------------\u001b[0m",
      "\u001b[1;31mAttributeError\u001b[0m                            Traceback (most recent call last)",
      "Cell \u001b[1;32mIn[54], line 1\u001b[0m\n\u001b[1;32m----> 1\u001b[0m tuple_name\u001b[38;5;241m.\u001b[39mappend(\u001b[38;5;241m1\u001b[39m)\n",
      "\u001b[1;31mAttributeError\u001b[0m: 'tuple' object has no attribute 'append'"
     ]
    }
   ],
   "source": [
    "tuple_name.append(1)"
   ]
  },
  {
   "cell_type": "code",
   "execution_count": null,
   "id": "3abfb444",
   "metadata": {},
   "outputs": [],
   "source": []
  },
  {
   "cell_type": "markdown",
   "id": "b4d3e2e6",
   "metadata": {},
   "source": [
    "# SETS\n"
   ]
  },
  {
   "cell_type": "code",
   "execution_count": null,
   "id": "edc4251a",
   "metadata": {},
   "outputs": [],
   "source": [
    "#They are similar to lists and tuple but CANNOT stores DUPLICATE values.\n",
    "#values inside the set is not accessed by indexing as they are arranged in UNORDERED.\n",
    "# returns only Unique values.\n",
    "# uses '{}' brackets"
   ]
  },
  {
   "cell_type": "code",
   "execution_count": 55,
   "id": "c7e29218",
   "metadata": {},
   "outputs": [
    {
     "name": "stdout",
     "output_type": "stream",
     "text": [
      "{1, 2, 3, 4}\n"
     ]
    }
   ],
   "source": [
    "set_values = {1,2,3,4}\n",
    "print(set_values)"
   ]
  },
  {
   "cell_type": "code",
   "execution_count": 58,
   "id": "d2e93e2d",
   "metadata": {},
   "outputs": [
    {
     "name": "stdout",
     "output_type": "stream",
     "text": [
      "{1, 2, 3, 4, 'bob'}\n"
     ]
    }
   ],
   "source": [
    "set_data = {1, \"bob\", \"bob\",2,3,4,2,3}\n",
    "print(set_data)"
   ]
  },
  {
   "cell_type": "code",
   "execution_count": 59,
   "id": "9a70d95e",
   "metadata": {},
   "outputs": [
    {
     "data": {
      "text/plain": [
       "set"
      ]
     },
     "execution_count": 59,
     "metadata": {},
     "output_type": "execute_result"
    }
   ],
   "source": [
    "type(set_data)"
   ]
  },
  {
   "cell_type": "code",
   "execution_count": 60,
   "id": "edad0795",
   "metadata": {},
   "outputs": [
    {
     "name": "stdout",
     "output_type": "stream",
     "text": [
      "{32, 1, 2, 3, 4, 5, 12}\n",
      "{0, 1, 2, 3, 4, 5, 24, 31}\n"
     ]
    }
   ],
   "source": [
    "set_dairy1 = {1,2,3,4,2,32,1,4,5,3,12,5}\n",
    "\n",
    "print(set_dairy1)\n",
    "\n",
    "set_dairy2 = {0,1,2,3,4,5,31,4,2,1,24,2}\n",
    "\n",
    "print(set_dairy2)"
   ]
  },
  {
   "cell_type": "code",
   "execution_count": 66,
   "id": "28f21743",
   "metadata": {},
   "outputs": [
    {
     "name": "stdout",
     "output_type": "stream",
     "text": [
      "{32, 1, 2, 3, 4, 5, 0, 12, 24, 31}\n",
      "{1, 2, 3, 4, 5}\n",
      "{32, 12}\n",
      "{0, 24, 31}\n",
      "{0, 32, 12, 24, 31}\n"
     ]
    }
   ],
   "source": [
    "# OPERATIONS\n",
    "\n",
    "print(set_dairy1 | set_dairy2)    #combine unique values\n",
    "\n",
    "print(set_dairy1 & set_dairy2)    #common in two sets\n",
    "\n",
    "print(set_dairy1 - set_dairy2)    # A - B = A only\n",
    "\n",
    "print(set_dairy2 - set_dairy1)    # B - A = B only\n",
    "\n",
    "print(set_dairy1 ^ set_dairy2)    #the value is either in one or other but not in both"
   ]
  },
  {
   "cell_type": "code",
   "execution_count": null,
   "id": "e50923c2",
   "metadata": {},
   "outputs": [],
   "source": []
  },
  {
   "cell_type": "markdown",
   "id": "2b603996",
   "metadata": {},
   "source": [
    "# DICTIONARY"
   ]
  },
  {
   "cell_type": "code",
   "execution_count": null,
   "id": "fe376fd6",
   "metadata": {},
   "outputs": [],
   "source": [
    "#Key/Value pairs\n",
    "# {key : value}\n",
    "# it  is also MUTABLE in nature\n",
    "# there is not INDEXING feature in dictionary\n",
    "# we call it by [keys]."
   ]
  },
  {
   "cell_type": "code",
   "execution_count": 67,
   "id": "b208326a",
   "metadata": {},
   "outputs": [
    {
     "name": "stdout",
     "output_type": "stream",
     "text": [
      "{'name': 'Vanshika', 'age': 21, 'ice_cream': ['rasberry', 'mangodoli', 'chocofills']}\n"
     ]
    }
   ],
   "source": [
    "dict_data = {'name' : 'Vanshika', 'age' : 21, 'ice_cream' : ['rasberry', 'mangodoli', 'chocofills']}\n",
    "print(dict_data)"
   ]
  },
  {
   "cell_type": "code",
   "execution_count": 68,
   "id": "a49b7e49",
   "metadata": {},
   "outputs": [
    {
     "data": {
      "text/plain": [
       "dict"
      ]
     },
     "execution_count": 68,
     "metadata": {},
     "output_type": "execute_result"
    }
   ],
   "source": [
    "type(dict_data)"
   ]
  },
  {
   "cell_type": "code",
   "execution_count": 70,
   "id": "918f9f86",
   "metadata": {},
   "outputs": [
    {
     "data": {
      "text/plain": [
       "dict_values(['Vanshika', 21, ['rasberry', 'mangodoli', 'chocofills']])"
      ]
     },
     "execution_count": 70,
     "metadata": {},
     "output_type": "execute_result"
    }
   ],
   "source": [
    "dict_data.values()"
   ]
  },
  {
   "cell_type": "code",
   "execution_count": 71,
   "id": "85c9a12e",
   "metadata": {},
   "outputs": [
    {
     "data": {
      "text/plain": [
       "dict_keys(['name', 'age', 'ice_cream'])"
      ]
     },
     "execution_count": 71,
     "metadata": {},
     "output_type": "execute_result"
    }
   ],
   "source": [
    "dict_data.keys()"
   ]
  },
  {
   "cell_type": "code",
   "execution_count": 72,
   "id": "31ed9d68",
   "metadata": {},
   "outputs": [
    {
     "data": {
      "text/plain": [
       "dict_items([('name', 'Vanshika'), ('age', 21), ('ice_cream', ['rasberry', 'mangodoli', 'chocofills'])])"
      ]
     },
     "execution_count": 72,
     "metadata": {},
     "output_type": "execute_result"
    }
   ],
   "source": [
    "dict_data.items()"
   ]
  },
  {
   "cell_type": "code",
   "execution_count": 78,
   "id": "613e08e9",
   "metadata": {},
   "outputs": [
    {
     "data": {
      "text/plain": [
       "['rasberry', 'mangodoli', 'chocofills']"
      ]
     },
     "execution_count": 78,
     "metadata": {},
     "output_type": "execute_result"
    }
   ],
   "source": [
    "dict_data['ice_cream']"
   ]
  },
  {
   "cell_type": "code",
   "execution_count": 81,
   "id": "cae7bfa3",
   "metadata": {},
   "outputs": [
    {
     "name": "stdout",
     "output_type": "stream",
     "text": [
      "{'name': 'Vanshika', 'age': 20, 'ice_cream': ['rasberry', 'mangodoli', 'chocofills']}\n"
     ]
    }
   ],
   "source": [
    "dict_data['age'] = 20\n",
    "print(dict_data)"
   ]
  },
  {
   "cell_type": "code",
   "execution_count": 84,
   "id": "395eccbf",
   "metadata": {},
   "outputs": [
    {
     "name": "stdout",
     "output_type": "stream",
     "text": [
      "{'name': 'Vanshika', 'age': 20, 'ice_cream': ['rasberry', 'mangodoli', 'cone'], 'gender': 'Female'}\n"
     ]
    }
   ],
   "source": [
    "# UPDATE - it can add the new value into the dict and update the existing one\n",
    "\n",
    "dict_data.update({'name' : 'Vanshika', 'age' : 20, 'ice_cream' : ['rasberry', 'mangodoli', 'cone'], 'gender' : 'Female'})\n",
    "print(dict_data)"
   ]
  },
  {
   "cell_type": "code",
   "execution_count": 88,
   "id": "f2735257",
   "metadata": {},
   "outputs": [
    {
     "name": "stdout",
     "output_type": "stream",
     "text": [
      "{'name': 'Vanshika', 'age': 20, 'ice_cream': ['rasberry', 'mangodoli', 'cone']}\n"
     ]
    }
   ],
   "source": [
    "# DELECT - the keys of the dict\n",
    "del dict_data['gender']\n",
    "print(dict_data)"
   ]
  },
  {
   "cell_type": "code",
   "execution_count": null,
   "id": "d1f9973d",
   "metadata": {},
   "outputs": [],
   "source": []
  }
 ],
 "metadata": {
  "kernelspec": {
   "display_name": "Python 3 (ipykernel)",
   "language": "python",
   "name": "python3"
  },
  "language_info": {
   "codemirror_mode": {
    "name": "ipython",
    "version": 3
   },
   "file_extension": ".py",
   "mimetype": "text/x-python",
   "name": "python",
   "nbconvert_exporter": "python",
   "pygments_lexer": "ipython3",
   "version": "3.11.3"
  }
 },
 "nbformat": 4,
 "nbformat_minor": 5
}
