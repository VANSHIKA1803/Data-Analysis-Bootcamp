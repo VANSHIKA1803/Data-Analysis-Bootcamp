{
 "cells": [
  {
   "cell_type": "markdown",
   "id": "05c54577",
   "metadata": {},
   "source": [
    "# Converting Data Types"
   ]
  },
  {
   "cell_type": "code",
   "execution_count": 1,
   "id": "76bbeec4",
   "metadata": {},
   "outputs": [],
   "source": [
    "num_int = 3"
   ]
  },
  {
   "cell_type": "code",
   "execution_count": 2,
   "id": "5873dcbf",
   "metadata": {},
   "outputs": [
    {
     "data": {
      "text/plain": [
       "int"
      ]
     },
     "execution_count": 2,
     "metadata": {},
     "output_type": "execute_result"
    }
   ],
   "source": [
    "type(num_int)"
   ]
  },
  {
   "cell_type": "code",
   "execution_count": 3,
   "id": "135af997",
   "metadata": {},
   "outputs": [],
   "source": [
    "num_str = '3'"
   ]
  },
  {
   "cell_type": "code",
   "execution_count": 4,
   "id": "5da8134d",
   "metadata": {},
   "outputs": [
    {
     "data": {
      "text/plain": [
       "str"
      ]
     },
     "execution_count": 4,
     "metadata": {},
     "output_type": "execute_result"
    }
   ],
   "source": [
    "type(num_str)"
   ]
  },
  {
   "cell_type": "code",
   "execution_count": 9,
   "id": "d6903744",
   "metadata": {},
   "outputs": [
    {
     "name": "stdout",
     "output_type": "stream",
     "text": [
      "3\n"
     ]
    },
    {
     "data": {
      "text/plain": [
       "int"
      ]
     },
     "execution_count": 9,
     "metadata": {},
     "output_type": "execute_result"
    }
   ],
   "source": [
    "num_str = int(num_str)\n",
    "print(num_str)\n",
    "type(num_str)"
   ]
  },
  {
   "cell_type": "code",
   "execution_count": 11,
   "id": "a628bb07",
   "metadata": {},
   "outputs": [
    {
     "name": "stdout",
     "output_type": "stream",
     "text": [
      "6\n"
     ]
    }
   ],
   "source": [
    "num_sum = num_int + num_str\n",
    "print(num_sum)"
   ]
  },
  {
   "cell_type": "code",
   "execution_count": null,
   "id": "30258720",
   "metadata": {},
   "outputs": [],
   "source": []
  },
  {
   "cell_type": "code",
   "execution_count": 12,
   "id": "6423a402",
   "metadata": {},
   "outputs": [
    {
     "name": "stdout",
     "output_type": "stream",
     "text": [
      "[1, 2, 3, 4, 5]\n"
     ]
    }
   ],
   "source": [
    "list_type = [1,2,3,4,5]\n",
    "print(list_type)"
   ]
  },
  {
   "cell_type": "code",
   "execution_count": 17,
   "id": "ee713e0d",
   "metadata": {},
   "outputs": [
    {
     "data": {
      "text/plain": [
       "tuple"
      ]
     },
     "execution_count": 17,
     "metadata": {},
     "output_type": "execute_result"
    }
   ],
   "source": [
    "tuple_type = tuple(list_type)\n",
    "type(tuple_type)"
   ]
  },
  {
   "cell_type": "code",
   "execution_count": null,
   "id": "f0740d9a",
   "metadata": {},
   "outputs": [],
   "source": [
    "list_type = [1,4,2,3,5,1,3,2,3,4,5]"
   ]
  },
  {
   "cell_type": "code",
   "execution_count": 20,
   "id": "f974122f",
   "metadata": {},
   "outputs": [
    {
     "data": {
      "text/plain": [
       "set"
      ]
     },
     "execution_count": 20,
     "metadata": {},
     "output_type": "execute_result"
    }
   ],
   "source": [
    "set(list_type)\n",
    "type(set(list_type))"
   ]
  },
  {
   "cell_type": "code",
   "execution_count": 21,
   "id": "ca1130af",
   "metadata": {},
   "outputs": [
    {
     "name": "stdout",
     "output_type": "stream",
     "text": [
      "{'name': 'vanshika', 'age': 21, 'gender': 'female'}\n"
     ]
    }
   ],
   "source": [
    "dict_data = {'name':'vanshika','age':21, 'gender':'female'}\n",
    "print(dict_data)"
   ]
  },
  {
   "cell_type": "code",
   "execution_count": 22,
   "id": "cdac47ec",
   "metadata": {},
   "outputs": [
    {
     "data": {
      "text/plain": [
       "dict_keys(['name', 'age', 'gender'])"
      ]
     },
     "execution_count": 22,
     "metadata": {},
     "output_type": "execute_result"
    }
   ],
   "source": [
    "dict_data.keys()"
   ]
  },
  {
   "cell_type": "code",
   "execution_count": 23,
   "id": "87f382eb",
   "metadata": {},
   "outputs": [
    {
     "data": {
      "text/plain": [
       "dict_values(['vanshika', 21, 'female'])"
      ]
     },
     "execution_count": 23,
     "metadata": {},
     "output_type": "execute_result"
    }
   ],
   "source": [
    "dict_data.values()"
   ]
  },
  {
   "cell_type": "code",
   "execution_count": 24,
   "id": "ceea30e1",
   "metadata": {},
   "outputs": [
    {
     "data": {
      "text/plain": [
       "dict_items([('name', 'vanshika'), ('age', 21), ('gender', 'female')])"
      ]
     },
     "execution_count": 24,
     "metadata": {},
     "output_type": "execute_result"
    }
   ],
   "source": [
    "dict_data.items()"
   ]
  },
  {
   "cell_type": "code",
   "execution_count": 27,
   "id": "cc44c908",
   "metadata": {},
   "outputs": [
    {
     "data": {
      "text/plain": [
       "['vanshika', 21, 'female']"
      ]
     },
     "execution_count": 27,
     "metadata": {},
     "output_type": "execute_result"
    }
   ],
   "source": [
    "list(dict_data.items())\n",
    "list(dict_data.keys())\n",
    "list(dict_data.values())"
   ]
  },
  {
   "cell_type": "code",
   "execution_count": 28,
   "id": "75162582",
   "metadata": {},
   "outputs": [
    {
     "data": {
      "text/plain": [
       "list"
      ]
     },
     "execution_count": 28,
     "metadata": {},
     "output_type": "execute_result"
    }
   ],
   "source": [
    "type(list(dict_data.values()))"
   ]
  },
  {
   "cell_type": "code",
   "execution_count": null,
   "id": "881fce94",
   "metadata": {},
   "outputs": [],
   "source": []
  },
  {
   "cell_type": "code",
   "execution_count": 30,
   "id": "f05eea9a",
   "metadata": {},
   "outputs": [
    {
     "data": {
      "text/plain": [
       "{' ', ',', '.', 'I', 'V', 'a', 'e', 'h', 'i', 'k', 'm', 'n', 's', 'y'}"
      ]
     },
     "execution_count": 30,
     "metadata": {},
     "output_type": "execute_result"
    }
   ],
   "source": [
    "long_str = \"hey, I am Vanshika.\"\n",
    "list(long_str)\n",
    "set(long_str)"
   ]
  },
  {
   "cell_type": "code",
   "execution_count": null,
   "id": "98a2f8a5",
   "metadata": {},
   "outputs": [],
   "source": []
  }
 ],
 "metadata": {
  "kernelspec": {
   "display_name": "Python 3 (ipykernel)",
   "language": "python",
   "name": "python3"
  },
  "language_info": {
   "codemirror_mode": {
    "name": "ipython",
    "version": 3
   },
   "file_extension": ".py",
   "mimetype": "text/x-python",
   "name": "python",
   "nbconvert_exporter": "python",
   "pygments_lexer": "ipython3",
   "version": "3.11.3"
  }
 },
 "nbformat": 4,
 "nbformat_minor": 5
}
