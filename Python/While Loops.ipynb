{
 "cells": [
  {
   "cell_type": "markdown",
   "id": "78f583b5",
   "metadata": {},
   "source": [
    "# WHILE loop"
   ]
  },
  {
   "cell_type": "code",
   "execution_count": 21,
   "id": "eed5fc55",
   "metadata": {},
   "outputs": [],
   "source": [
    "# is iterate over a block of code when the test condition is true"
   ]
  },
  {
   "cell_type": "code",
   "execution_count": 22,
   "id": "1bf3a453",
   "metadata": {},
   "outputs": [
    {
     "name": "stdout",
     "output_type": "stream",
     "text": [
      "0\n",
      "1\n",
      "2\n",
      "3\n",
      "4\n"
     ]
    }
   ],
   "source": [
    "num = 0\n",
    "while num < 5:\n",
    "    print(num)\n",
    "    num += 1\n",
    "    "
   ]
  },
  {
   "cell_type": "code",
   "execution_count": 23,
   "id": "6de6cdf3",
   "metadata": {},
   "outputs": [
    {
     "name": "stdout",
     "output_type": "stream",
     "text": [
      "3\n"
     ]
    }
   ],
   "source": [
    "num = 0\n",
    "while num < 5:\n",
    "    if(num == 3):\n",
    "        print(num)\n",
    "    num += 1"
   ]
  },
  {
   "cell_type": "code",
   "execution_count": 24,
   "id": "3f7a0439",
   "metadata": {},
   "outputs": [
    {
     "name": "stdout",
     "output_type": "stream",
     "text": [
      "0\n",
      "1\n",
      "2\n",
      "4\n"
     ]
    }
   ],
   "source": [
    "num = 0\n",
    "while num < 5:\n",
    "    if(num != 3):\n",
    "        print(num)\n",
    "    num += 1"
   ]
  },
  {
   "cell_type": "code",
   "execution_count": 25,
   "id": "3a25e3c7",
   "metadata": {},
   "outputs": [
    {
     "name": "stdout",
     "output_type": "stream",
     "text": [
      "3\n",
      "No longer < 5\n"
     ]
    }
   ],
   "source": [
    "num = 0\n",
    "while num < 5:\n",
    "    if(num == 3):\n",
    "        print(num)\n",
    "    num += 1\n",
    "else:\n",
    "    print('No longer < 5')"
   ]
  },
  {
   "cell_type": "code",
   "execution_count": 26,
   "id": "5d1ea640",
   "metadata": {},
   "outputs": [
    {
     "name": "stdout",
     "output_type": "stream",
     "text": [
      "0\n",
      "1\n",
      "2\n"
     ]
    }
   ],
   "source": [
    "# BREAK statment\n",
    "\n",
    "num = 0\n",
    "while(num < 5):\n",
    "    if(num == 3):\n",
    "        break\n",
    "    print(num)\n",
    "    num += 1"
   ]
  },
  {
   "cell_type": "code",
   "execution_count": 27,
   "id": "94857c3f",
   "metadata": {},
   "outputs": [
    {
     "name": "stdout",
     "output_type": "stream",
     "text": [
      "0\n",
      "1\n",
      "2\n",
      "3\n"
     ]
    }
   ],
   "source": [
    "num = 0\n",
    "while(num < 5):\n",
    "    print(num)\n",
    "    if(num == 3):\n",
    "        break\n",
    "    num += 1\n",
    "else:\n",
    "    print('break statement executed!')"
   ]
  },
  {
   "cell_type": "code",
   "execution_count": 28,
   "id": "5a20ded5",
   "metadata": {},
   "outputs": [
    {
     "name": "stdout",
     "output_type": "stream",
     "text": [
      "1\n",
      "2\n",
      "4\n",
      "5\n",
      "break statement executed!\n"
     ]
    }
   ],
   "source": [
    "# CONTINUE statement\n",
    "\n",
    "num = 0\n",
    "while(num < 5):\n",
    "    num += 1\n",
    "    if(num == 3):\n",
    "        continue\n",
    "    print(num)\n",
    "else:\n",
    "    print('break statement executed!')"
   ]
  },
  {
   "cell_type": "code",
   "execution_count": null,
   "id": "b51da25a",
   "metadata": {},
   "outputs": [],
   "source": []
  }
 ],
 "metadata": {
  "kernelspec": {
   "display_name": "Python 3 (ipykernel)",
   "language": "python",
   "name": "python3"
  },
  "language_info": {
   "codemirror_mode": {
    "name": "ipython",
    "version": 3
   },
   "file_extension": ".py",
   "mimetype": "text/x-python",
   "name": "python",
   "nbconvert_exporter": "python",
   "pygments_lexer": "ipython3",
   "version": "3.11.3"
  }
 },
 "nbformat": 4,
 "nbformat_minor": 5
}
