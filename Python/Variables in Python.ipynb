{
 "cells": [
  {
   "cell_type": "markdown",
   "id": "25ef06df",
   "metadata": {},
   "source": [
    "# Variables in Python"
   ]
  },
  {
   "cell_type": "code",
   "execution_count": 9,
   "id": "4ffd9599",
   "metadata": {},
   "outputs": [
    {
     "name": "stdout",
     "output_type": "stream",
     "text": [
      "8\n"
     ]
    }
   ],
   "source": [
    "x = 8\n",
    "print (x)"
   ]
  },
  {
   "cell_type": "code",
   "execution_count": 10,
   "id": "a72b54ef",
   "metadata": {},
   "outputs": [
    {
     "data": {
      "text/plain": [
       "int"
      ]
     },
     "execution_count": 10,
     "metadata": {},
     "output_type": "execute_result"
    }
   ],
   "source": [
    "type(x)"
   ]
  },
  {
   "cell_type": "code",
   "execution_count": 11,
   "id": "6e4b14c0",
   "metadata": {},
   "outputs": [
    {
     "name": "stdout",
     "output_type": "stream",
     "text": [
      "Hey!\n"
     ]
    }
   ],
   "source": [
    "x = \"Hey!\"\n",
    "print (x)"
   ]
  },
  {
   "cell_type": "code",
   "execution_count": 12,
   "id": "7197187b",
   "metadata": {},
   "outputs": [
    {
     "data": {
      "text/plain": [
       "str"
      ]
     },
     "execution_count": 12,
     "metadata": {},
     "output_type": "execute_result"
    }
   ],
   "source": [
    "type(x)"
   ]
  },
  {
   "cell_type": "code",
   "execution_count": 13,
   "id": "7da6c535",
   "metadata": {},
   "outputs": [
    {
     "name": "stdout",
     "output_type": "stream",
     "text": [
      "2.5\n"
     ]
    }
   ],
   "source": [
    "x = 2.5\n",
    "print(x)\n"
   ]
  },
  {
   "cell_type": "code",
   "execution_count": 14,
   "id": "95afd925",
   "metadata": {},
   "outputs": [
    {
     "data": {
      "text/plain": [
       "float"
      ]
     },
     "execution_count": 14,
     "metadata": {},
     "output_type": "execute_result"
    }
   ],
   "source": [
    "type(x)"
   ]
  },
  {
   "cell_type": "code",
   "execution_count": 2,
   "id": "d006175c",
   "metadata": {},
   "outputs": [
    {
     "name": "stdout",
     "output_type": "stream",
     "text": [
      "bob\n",
      "joy\n",
      "jery\n"
     ]
    }
   ],
   "source": [
    "x , y , z = \"bob\", \"joy\",\"jery\"\n",
    "print(x)\n",
    "print(y)\n",
    "print(z)"
   ]
  },
  {
   "cell_type": "code",
   "execution_count": 4,
   "id": "10bedc26",
   "metadata": {},
   "outputs": [
    {
     "name": "stdout",
     "output_type": "stream",
     "text": [
      "bob joy jery\n",
      "bob joy jery\n",
      "bob joy jery\n"
     ]
    }
   ],
   "source": [
    "x = y = z = \"bob joy jery\"\n",
    "print(x)\n",
    "print(y)\n",
    "print(z)"
   ]
  },
  {
   "cell_type": "code",
   "execution_count": 7,
   "id": "4bc3c57e",
   "metadata": {},
   "outputs": [
    {
     "name": "stdout",
     "output_type": "stream",
     "text": [
      "chocos\n",
      "toffee\n",
      "juice\n"
     ]
    }
   ],
   "source": [
    "lists = [\"chocos\" , \"toffee\" , \"juice\"]\n",
    "(x,y,z) = lists\n",
    "print(x)\n",
    "print(y)\n",
    "print(z)"
   ]
  },
  {
   "cell_type": "code",
   "execution_count": null,
   "id": "097796e7",
   "metadata": {},
   "outputs": [],
   "source": []
  },
  {
   "cell_type": "code",
   "execution_count": null,
   "id": "7c049a24",
   "metadata": {},
   "outputs": [],
   "source": [
    "# Camel case\n",
    "\n",
    "# Test variable case\n",
    "\n",
    "testVariableCase = \"Vanshika\""
   ]
  },
  {
   "cell_type": "code",
   "execution_count": null,
   "id": "14787e43",
   "metadata": {},
   "outputs": [],
   "source": [
    "# Pascal case\n",
    "\n",
    "# Test variable case\n",
    "\n",
    "TestVariableCase = \"Vanshika\""
   ]
  },
  {
   "cell_type": "code",
   "execution_count": 13,
   "id": "6a804807",
   "metadata": {},
   "outputs": [
    {
     "name": "stdout",
     "output_type": "stream",
     "text": [
      "hey\n"
     ]
    }
   ],
   "source": [
    "# Snake case\n",
    "\n",
    "# Test variable case\n",
    "\n",
    "test_variable_case = \"Vanshika\"\n",
    "_test = \"hey\"\n",
    "#.test = \"hey\"\n",
    "print(_test)"
   ]
  },
  {
   "cell_type": "code",
   "execution_count": null,
   "id": "f81c9830",
   "metadata": {},
   "outputs": [],
   "source": []
  },
  {
   "cell_type": "code",
   "execution_count": 8,
   "id": "5d7f5e8e",
   "metadata": {},
   "outputs": [
    {
     "name": "stdout",
     "output_type": "stream",
     "text": [
      "Hey There!\n"
     ]
    }
   ],
   "source": [
    "#str + str (concatination)\n",
    "#int + str IS NOT POSSIBLE\n",
    "\n",
    "x= \"Hey There\" + '!'\n",
    "print(x)"
   ]
  },
  {
   "cell_type": "code",
   "execution_count": 18,
   "id": "d3f8a66f",
   "metadata": {},
   "outputs": [
    {
     "name": "stdout",
     "output_type": "stream",
     "text": [
      "add a number 2\n"
     ]
    }
   ],
   "source": [
    "x = \"add a number\" + 2\n",
    "print(x)\n",
    "\n",
    "#ERROR\n",
    "\n",
    "x = \"add a number\" + ' 2'\n",
    "print(x)"
   ]
  },
  {
   "cell_type": "code",
   "execution_count": 20,
   "id": "14573b89",
   "metadata": {},
   "outputs": [
    {
     "name": "stdout",
     "output_type": "stream",
     "text": [
      "add a number 2\n"
     ]
    }
   ],
   "source": [
    "x = \"add a number\" \n",
    "y = 2\n",
    "print(x+y)\n",
    "\n",
    "#ERROR\n",
    "\n",
    "print(x,y)"
   ]
  },
  {
   "cell_type": "code",
   "execution_count": null,
   "id": "a25cf46d",
   "metadata": {},
   "outputs": [],
   "source": []
  }
 ],
 "metadata": {
  "kernelspec": {
   "display_name": "Python 3 (ipykernel)",
   "language": "python",
   "name": "python3"
  },
  "language_info": {
   "codemirror_mode": {
    "name": "ipython",
    "version": 3
   },
   "file_extension": ".py",
   "mimetype": "text/x-python",
   "name": "python",
   "nbconvert_exporter": "python",
   "pygments_lexer": "ipython3",
   "version": "3.11.3"
  }
 },
 "nbformat": 4,
 "nbformat_minor": 5
}
