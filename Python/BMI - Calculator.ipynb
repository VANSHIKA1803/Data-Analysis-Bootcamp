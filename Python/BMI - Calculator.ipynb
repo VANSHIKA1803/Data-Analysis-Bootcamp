{
 "cells": [
  {
   "cell_type": "markdown",
   "id": "0e2386e8",
   "metadata": {},
   "source": [
    "# BMI CALCULATOR\n",
    "\n",
    "BMI = (weight * 703) / (height * height)\n",
    "\n",
    "BMI Categories:\n",
    "Underweight = <18.5 ->Minimal\n",
    "Normal weight = 18.5–24.9 ->Minimal\n",
    "Overweight = 25–29.9 -> Increased\n",
    "Obese = 30 - 34.9 -> High\n",
    "Severely Obese  = 35 - 39.5 -> Very High\n",
    "Morbidly Obese = 40 and over -> Extremely High\n"
   ]
  },
  {
   "cell_type": "code",
   "execution_count": 4,
   "id": "277b181e",
   "metadata": {},
   "outputs": [
    {
     "name": "stdout",
     "output_type": "stream",
     "text": [
      "Enter your name: Vanshika \n",
      "Enter the weight in pounds: 170\n",
      "Enter the height in inches: 69\n",
      "Your Body Index Mass is:  25.101869355177485\n",
      "Vanshika , you are overweight.\n"
     ]
    }
   ],
   "source": [
    "name = input(\"Enter your name: \")\n",
    "\n",
    "weight = int(input(\"Enter the weight in pounds: \"))\n",
    "\n",
    "height = int(input(\"Enter the height in inches: \"))\n",
    "\n",
    "BMI =  (weight * 703) / (height * height)\n",
    "\n",
    "print(\"Your Body Index Mass is: \", BMI)\n",
    "\n",
    "if(BMI > 0):\n",
    "    if(BMI <= 18.5):\n",
    "        print(name +\", you are underweight.\")\n",
    "    elif(BMI <= 24.9):\n",
    "        print(name +\", you have normal weight.\")\n",
    "    elif (BMI < 29.5):\n",
    "        print(name +\", you are overweight.\")\n",
    "    elif (BMI < 34.9):\n",
    "        print(name +\", you are obese.\")\n",
    "    elif (BMI < 39.5):\n",
    "        print(name +\", you are severely obese.\")\n",
    "    else:\n",
    "        print(name +\", you are morbidly obese.\")\n",
    "    \n",
    "else:\n",
    "    print(\"Enter the valid data: \")"
   ]
  },
  {
   "cell_type": "code",
   "execution_count": null,
   "id": "73d668e6",
   "metadata": {},
   "outputs": [],
   "source": []
  }
 ],
 "metadata": {
  "kernelspec": {
   "display_name": "Python 3 (ipykernel)",
   "language": "python",
   "name": "python3"
  },
  "language_info": {
   "codemirror_mode": {
    "name": "ipython",
    "version": 3
   },
   "file_extension": ".py",
   "mimetype": "text/x-python",
   "name": "python",
   "nbconvert_exporter": "python",
   "pygments_lexer": "ipython3",
   "version": "3.11.3"
  }
 },
 "nbformat": 4,
 "nbformat_minor": 5
}
