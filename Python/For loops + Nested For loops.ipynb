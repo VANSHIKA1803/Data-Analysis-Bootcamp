{
 "cells": [
  {
   "cell_type": "markdown",
   "id": "97582408",
   "metadata": {},
   "source": [
    "# FOR Loops|"
   ]
  },
  {
   "cell_type": "code",
   "execution_count": 16,
   "id": "5884c7dd",
   "metadata": {},
   "outputs": [],
   "source": [
    "# for loops - is used to iterate over a sequence \n",
    "# which could be any string, array , list, tuple, dict"
   ]
  },
  {
   "cell_type": "code",
   "execution_count": 17,
   "id": "02ee88d9",
   "metadata": {},
   "outputs": [],
   "source": [
    "integer = [1,2,3,4,5]"
   ]
  },
  {
   "cell_type": "code",
   "execution_count": 18,
   "id": "b6f0010e",
   "metadata": {},
   "outputs": [
    {
     "name": "stdout",
     "output_type": "stream",
     "text": [
      "1\n",
      "2\n",
      "3\n",
      "4\n",
      "5\n"
     ]
    }
   ],
   "source": [
    "for num in integer:\n",
    "    print(num)"
   ]
  },
  {
   "cell_type": "code",
   "execution_count": 19,
   "id": "c069e23b",
   "metadata": {},
   "outputs": [
    {
     "name": "stdout",
     "output_type": "stream",
     "text": [
      "2\n",
      "4\n",
      "6\n",
      "8\n",
      "10\n"
     ]
    }
   ],
   "source": [
    "for jer in integer:\n",
    "    print(jer + jer)"
   ]
  },
  {
   "cell_type": "code",
   "execution_count": 20,
   "id": "c767dd2c",
   "metadata": {},
   "outputs": [],
   "source": [
    "# For loops in Dictionaries"
   ]
  },
  {
   "cell_type": "code",
   "execution_count": 21,
   "id": "5002768c",
   "metadata": {},
   "outputs": [
    {
     "name": "stdout",
     "output_type": "stream",
     "text": [
      "{'name': 'vanshika', 'age': 21, 'gender': 'female', 'ice_cream': \"['rasberry', 'mangodoli', 'chocos']\"}\n"
     ]
    }
   ],
   "source": [
    "dict_data = {'name' : \"vanshika\", 'age' : 21, 'gender' : 'female' , 'ice_cream' : \"['rasberry', 'mangodoli', 'chocos']\"}\n",
    "print(dict_data)"
   ]
  },
  {
   "cell_type": "code",
   "execution_count": 22,
   "id": "ac8a9c77",
   "metadata": {},
   "outputs": [
    {
     "name": "stdout",
     "output_type": "stream",
     "text": [
      "vanshika\n",
      "21\n",
      "female\n",
      "['rasberry', 'mangodoli', 'chocos']\n"
     ]
    }
   ],
   "source": [
    "for i in dict_data.values():\n",
    "    print(i)"
   ]
  },
  {
   "cell_type": "code",
   "execution_count": 23,
   "id": "a69ffd8d",
   "metadata": {},
   "outputs": [
    {
     "name": "stdout",
     "output_type": "stream",
     "text": [
      "name\n",
      "age\n",
      "gender\n",
      "ice_cream\n"
     ]
    }
   ],
   "source": [
    "for j in dict_data.keys():\n",
    "    print(j)"
   ]
  },
  {
   "cell_type": "code",
   "execution_count": 24,
   "id": "80e8453e",
   "metadata": {},
   "outputs": [
    {
     "name": "stdout",
     "output_type": "stream",
     "text": [
      "name : vanshika\n",
      "age : 21\n",
      "gender : female\n",
      "ice_cream : ['rasberry', 'mangodoli', 'chocos']\n"
     ]
    }
   ],
   "source": [
    "# i = keys\n",
    "# j = values\n",
    "\n",
    "for i, j in dict_data.items():\n",
    "    print(i, ':', j)"
   ]
  },
  {
   "cell_type": "markdown",
   "id": "27a05806",
   "metadata": {},
   "source": [
    "# NESTED For loops"
   ]
  },
  {
   "cell_type": "code",
   "execution_count": 32,
   "id": "45091bf9",
   "metadata": {},
   "outputs": [],
   "source": [
    "age = [20,18,19,21,22]\n",
    "name = ['bob','jer','joy','henry','roy']"
   ]
  },
  {
   "cell_type": "code",
   "execution_count": 38,
   "id": "3d28b3d6",
   "metadata": {},
   "outputs": [
    {
     "name": "stdout",
     "output_type": "stream",
     "text": [
      "bob age is 20\n",
      "bob age is 18\n",
      "bob age is 19\n",
      "bob age is 21\n",
      "bob age is 22\n",
      "jer age is 20\n",
      "jer age is 18\n",
      "jer age is 19\n",
      "jer age is 21\n",
      "jer age is 22\n",
      "joy age is 20\n",
      "joy age is 18\n",
      "joy age is 19\n",
      "joy age is 21\n",
      "joy age is 22\n",
      "henry age is 20\n",
      "henry age is 18\n",
      "henry age is 19\n",
      "henry age is 21\n",
      "henry age is 22\n",
      "roy age is 20\n",
      "roy age is 18\n",
      "roy age is 19\n",
      "roy age is 21\n",
      "roy age is 22\n"
     ]
    }
   ],
   "source": [
    "for i in name:\n",
    "    for j in age :\n",
    "        print(i,\"age is\",j)"
   ]
  },
  {
   "cell_type": "code",
   "execution_count": null,
   "id": "94d46271",
   "metadata": {},
   "outputs": [],
   "source": []
  }
 ],
 "metadata": {
  "kernelspec": {
   "display_name": "Python 3 (ipykernel)",
   "language": "python",
   "name": "python3"
  },
  "language_info": {
   "codemirror_mode": {
    "name": "ipython",
    "version": 3
   },
   "file_extension": ".py",
   "mimetype": "text/x-python",
   "name": "python",
   "nbconvert_exporter": "python",
   "pygments_lexer": "ipython3",
   "version": "3.11.3"
  }
 },
 "nbformat": 4,
 "nbformat_minor": 5
}
