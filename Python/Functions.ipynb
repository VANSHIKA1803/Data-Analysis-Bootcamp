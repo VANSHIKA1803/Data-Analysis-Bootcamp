{
 "cells": [
  {
   "cell_type": "markdown",
   "id": "9386684d",
   "metadata": {},
   "source": [
    "# FUNCTIONS in Python"
   ]
  },
  {
   "cell_type": "code",
   "execution_count": 3,
   "id": "fd017429",
   "metadata": {},
   "outputs": [],
   "source": [
    "def first_function():\n",
    "    print(\"executed successfully\")"
   ]
  },
  {
   "cell_type": "code",
   "execution_count": 4,
   "id": "2481d352",
   "metadata": {},
   "outputs": [
    {
     "name": "stdout",
     "output_type": "stream",
     "text": [
      "executed successfully\n"
     ]
    }
   ],
   "source": [
    "first_function()"
   ]
  },
  {
   "cell_type": "code",
   "execution_count": 5,
   "id": "f2204655",
   "metadata": {},
   "outputs": [],
   "source": [
    "def number_sq(num):\n",
    "    print(num ** 2)"
   ]
  },
  {
   "cell_type": "code",
   "execution_count": 6,
   "id": "e6b02332",
   "metadata": {},
   "outputs": [
    {
     "name": "stdout",
     "output_type": "stream",
     "text": [
      "4\n"
     ]
    }
   ],
   "source": [
    "number_sq(2)"
   ]
  },
  {
   "cell_type": "code",
   "execution_count": 7,
   "id": "0980698f",
   "metadata": {},
   "outputs": [],
   "source": [
    "# Multiple arguments\n",
    "def number_sq_pow(num,power):\n",
    "    print(num ** power)"
   ]
  },
  {
   "cell_type": "code",
   "execution_count": 8,
   "id": "d1effdb6",
   "metadata": {},
   "outputs": [
    {
     "name": "stdout",
     "output_type": "stream",
     "text": [
      "32\n"
     ]
    }
   ],
   "source": [
    "number_sq_pow(2,5)"
   ]
  },
  {
   "cell_type": "code",
   "execution_count": 9,
   "id": "6396924c",
   "metadata": {},
   "outputs": [
    {
     "name": "stdout",
     "output_type": "stream",
     "text": [
      "6\n"
     ]
    }
   ],
   "source": [
    "# Arbitrary arguments\n",
    "def number_args(*args):\n",
    "    print(args[0] * args[1])\n",
    "number_args(2,3,4,5)"
   ]
  },
  {
   "cell_type": "code",
   "execution_count": 13,
   "id": "607f898d",
   "metadata": {},
   "outputs": [
    {
     "name": "stdout",
     "output_type": "stream",
     "text": [
      "6\n"
     ]
    }
   ],
   "source": [
    "arg_tuple = (2,3,4,5,6)\n",
    "def number_arg(*number):\n",
    "    print(arg_tuple[0]*arg_tuple[1])\n",
    "number_arg(*arg_tuple)"
   ]
  },
  {
   "cell_type": "markdown",
   "id": "e2d59468",
   "metadata": {},
   "source": [
    "# Keyword Arguments"
   ]
  },
  {
   "cell_type": "code",
   "execution_count": null,
   "id": "a84b68a9",
   "metadata": {},
   "outputs": [],
   "source": [
    "def number_sq_pow(num,power):\n",
    "    print(num ** power)"
   ]
  },
  {
   "cell_type": "code",
   "execution_count": 15,
   "id": "eeff6ad8",
   "metadata": {},
   "outputs": [
    {
     "name": "stdout",
     "output_type": "stream",
     "text": [
      "32\n"
     ]
    }
   ],
   "source": [
    "number_sq_pow(power = 5 , num = 2)"
   ]
  },
  {
   "cell_type": "markdown",
   "id": "65f31163",
   "metadata": {},
   "source": [
    "# Arbitrary keyword arguments"
   ]
  },
  {
   "cell_type": "code",
   "execution_count": 21,
   "id": "c53bb867",
   "metadata": {},
   "outputs": [],
   "source": [
    "def number_arg(**num):\n",
    "    print(\"My number is: \" + num['integer'] + \" My another number is: \" + num['integer2'] )"
   ]
  },
  {
   "cell_type": "code",
   "execution_count": 22,
   "id": "c781b3e3",
   "metadata": {},
   "outputs": [
    {
     "name": "stdout",
     "output_type": "stream",
     "text": [
      "My number is: 123 My another number is: 456\n"
     ]
    }
   ],
   "source": [
    "number_arg(integer = '123' , integer2 = '456')"
   ]
  },
  {
   "cell_type": "code",
   "execution_count": null,
   "id": "6ed9081c",
   "metadata": {},
   "outputs": [],
   "source": []
  }
 ],
 "metadata": {
  "kernelspec": {
   "display_name": "Python 3 (ipykernel)",
   "language": "python",
   "name": "python3"
  },
  "language_info": {
   "codemirror_mode": {
    "name": "ipython",
    "version": 3
   },
   "file_extension": ".py",
   "mimetype": "text/x-python",
   "name": "python",
   "nbconvert_exporter": "python",
   "pygments_lexer": "ipython3",
   "version": "3.11.3"
  }
 },
 "nbformat": 4,
 "nbformat_minor": 5
}
